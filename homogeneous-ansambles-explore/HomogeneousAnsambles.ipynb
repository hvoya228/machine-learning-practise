{
 "cells": [
  {
   "cell_type": "code",
   "execution_count": 2,
   "id": "4a5c3726",
   "metadata": {},
   "outputs": [],
   "source": [
    "import pandas as pd\n",
    "from sklearn.model_selection import train_test_split\n",
    "from sklearn.preprocessing import LabelEncoder\n",
    "\n",
    "# Загрузка даних\n",
    "data = pd.read_csv('GlobalYouTubeStatistics.csv', delimiter=',', encoding='latin1')\n",
    "\n",
    "# ВИдалення нульових значень\n",
    "data = data.dropna()\n",
    "\n",
    "# Перетворення категоріальних даних на float\n",
    "label_encoder = LabelEncoder()\n",
    "data['uploads'] = label_encoder.fit_transform(data['uploads'])\n",
    "data['uploads'] = data['uploads'].astype(float)\n",
    "data['Country'] = label_encoder.fit_transform(data['Country'])\n",
    "data['Country'] = data['Country'].astype(float)\n",
    "data['channel_type'] = label_encoder.fit_transform(data['channel_type'])\n",
    "data['channel_type'] = data['channel_type'].astype(float)\n",
    "\n",
    "# Розбиття даних\n",
    "X = data[['uploads', 'Country']]\n",
    "y = data['channel_type']\n",
    "\n",
    "# Розділення на навчальний та тестовий набори\n",
    "X_train, X_test, y_train, y_test = train_test_split(X, y, test_size=0.2, random_state=42)"
   ]
  },
  {
   "cell_type": "code",
   "execution_count": 10,
   "id": "26ed2c22",
   "metadata": {},
   "outputs": [
    {
     "data": {
      "text/html": [
       "<style>#sk-container-id-4 {color: black;}#sk-container-id-4 pre{padding: 0;}#sk-container-id-4 div.sk-toggleable {background-color: white;}#sk-container-id-4 label.sk-toggleable__label {cursor: pointer;display: block;width: 100%;margin-bottom: 0;padding: 0.3em;box-sizing: border-box;text-align: center;}#sk-container-id-4 label.sk-toggleable__label-arrow:before {content: \"▸\";float: left;margin-right: 0.25em;color: #696969;}#sk-container-id-4 label.sk-toggleable__label-arrow:hover:before {color: black;}#sk-container-id-4 div.sk-estimator:hover label.sk-toggleable__label-arrow:before {color: black;}#sk-container-id-4 div.sk-toggleable__content {max-height: 0;max-width: 0;overflow: hidden;text-align: left;background-color: #f0f8ff;}#sk-container-id-4 div.sk-toggleable__content pre {margin: 0.2em;color: black;border-radius: 0.25em;background-color: #f0f8ff;}#sk-container-id-4 input.sk-toggleable__control:checked~div.sk-toggleable__content {max-height: 200px;max-width: 100%;overflow: auto;}#sk-container-id-4 input.sk-toggleable__control:checked~label.sk-toggleable__label-arrow:before {content: \"▾\";}#sk-container-id-4 div.sk-estimator input.sk-toggleable__control:checked~label.sk-toggleable__label {background-color: #d4ebff;}#sk-container-id-4 div.sk-label input.sk-toggleable__control:checked~label.sk-toggleable__label {background-color: #d4ebff;}#sk-container-id-4 input.sk-hidden--visually {border: 0;clip: rect(1px 1px 1px 1px);clip: rect(1px, 1px, 1px, 1px);height: 1px;margin: -1px;overflow: hidden;padding: 0;position: absolute;width: 1px;}#sk-container-id-4 div.sk-estimator {font-family: monospace;background-color: #f0f8ff;border: 1px dotted black;border-radius: 0.25em;box-sizing: border-box;margin-bottom: 0.5em;}#sk-container-id-4 div.sk-estimator:hover {background-color: #d4ebff;}#sk-container-id-4 div.sk-parallel-item::after {content: \"\";width: 100%;border-bottom: 1px solid gray;flex-grow: 1;}#sk-container-id-4 div.sk-label:hover label.sk-toggleable__label {background-color: #d4ebff;}#sk-container-id-4 div.sk-serial::before {content: \"\";position: absolute;border-left: 1px solid gray;box-sizing: border-box;top: 0;bottom: 0;left: 50%;z-index: 0;}#sk-container-id-4 div.sk-serial {display: flex;flex-direction: column;align-items: center;background-color: white;padding-right: 0.2em;padding-left: 0.2em;position: relative;}#sk-container-id-4 div.sk-item {position: relative;z-index: 1;}#sk-container-id-4 div.sk-parallel {display: flex;align-items: stretch;justify-content: center;background-color: white;position: relative;}#sk-container-id-4 div.sk-item::before, #sk-container-id-4 div.sk-parallel-item::before {content: \"\";position: absolute;border-left: 1px solid gray;box-sizing: border-box;top: 0;bottom: 0;left: 50%;z-index: -1;}#sk-container-id-4 div.sk-parallel-item {display: flex;flex-direction: column;z-index: 1;position: relative;background-color: white;}#sk-container-id-4 div.sk-parallel-item:first-child::after {align-self: flex-end;width: 50%;}#sk-container-id-4 div.sk-parallel-item:last-child::after {align-self: flex-start;width: 50%;}#sk-container-id-4 div.sk-parallel-item:only-child::after {width: 0;}#sk-container-id-4 div.sk-dashed-wrapped {border: 1px dashed gray;margin: 0 0.4em 0.5em 0.4em;box-sizing: border-box;padding-bottom: 0.4em;background-color: white;}#sk-container-id-4 div.sk-label label {font-family: monospace;font-weight: bold;display: inline-block;line-height: 1.2em;}#sk-container-id-4 div.sk-label-container {text-align: center;}#sk-container-id-4 div.sk-container {/* jupyter's `normalize.less` sets `[hidden] { display: none; }` but bootstrap.min.css set `[hidden] { display: none !important; }` so we also need the `!important` here to be able to override the default hidden behavior on the sphinx rendered scikit-learn.org. See: https://github.com/scikit-learn/scikit-learn/issues/21755 */display: inline-block !important;position: relative;}#sk-container-id-4 div.sk-text-repr-fallback {display: none;}</style><div id=\"sk-container-id-4\" class=\"sk-top-container\"><div class=\"sk-text-repr-fallback\"><pre>BaggingClassifier(n_estimators=3, n_jobs=-1)</pre><b>In a Jupyter environment, please rerun this cell to show the HTML representation or trust the notebook. <br />On GitHub, the HTML representation is unable to render, please try loading this page with nbviewer.org.</b></div><div class=\"sk-container\" hidden><div class=\"sk-item\"><div class=\"sk-estimator sk-toggleable\"><input class=\"sk-toggleable__control sk-hidden--visually\" id=\"sk-estimator-id-4\" type=\"checkbox\" checked><label for=\"sk-estimator-id-4\" class=\"sk-toggleable__label sk-toggleable__label-arrow\">BaggingClassifier</label><div class=\"sk-toggleable__content\"><pre>BaggingClassifier(n_estimators=3, n_jobs=-1)</pre></div></div></div></div></div>"
      ],
      "text/plain": [
       "BaggingClassifier(n_estimators=3, n_jobs=-1)"
      ]
     },
     "execution_count": 10,
     "metadata": {},
     "output_type": "execute_result"
    }
   ],
   "source": [
    "from sklearn.tree import DecisionTreeClassifier\n",
    "from sklearn.ensemble import BaggingClassifier\n",
    "from joblib import Parallel, delayed\n",
    "\n",
    "# Параметри для Decision Tree моделі\n",
    "tree_params = {\n",
    "    'criterion': 'gini',\n",
    "    'max_depth': None,\n",
    "    'min_samples_split': 2,\n",
    "    'min_samples_leaf': 1\n",
    "}\n",
    "\n",
    "# Кількість моделей у гомогенному ансамблі\n",
    "n_estimators = 3\n",
    "\n",
    "# Функція для тренування одного Decision Tree\n",
    "def train_tree(seed):\n",
    "    model = DecisionTreeClassifier(random_state=seed, **tree_params)\n",
    "    return model\n",
    "\n",
    "# Створення гомогенного ансамблю паралельно\n",
    "models = Parallel(n_jobs=-1)(delayed(train_tree)(seed) for seed in range(n_estimators))\n",
    "\n",
    "# Створення паралельного гомогенного ансамблю на основі Decision Tree\n",
    "parallel_tree_ensemble = BaggingClassifier(estimator=None, n_estimators=n_estimators, n_jobs=-1)\n",
    "\n",
    "# Тренування гомогенного ансамблю\n",
    "parallel_tree_ensemble.fit(X_train, y_train)"
   ]
  },
  {
   "cell_type": "code",
   "execution_count": 12,
   "id": "ab207ab8",
   "metadata": {},
   "outputs": [],
   "source": [
    "from sklearn.ensemble import RandomForestClassifier\n",
    "\n",
    "# Параметри для RandomForest моделі\n",
    "rf_params = {\n",
    "    'n_estimators': 3,\n",
    "    'criterion': 'gini',\n",
    "    'max_depth': None,\n",
    "    'min_samples_split': 2,\n",
    "    'min_samples_leaf': 1\n",
    "}\n",
    "\n",
    "# Кількість моделей у гомогенному ансамблі\n",
    "n_estimators = 3\n",
    "\n",
    "# Створення гомогенного ансамблю\n",
    "sequential_rf_ensemble = []\n",
    "\n",
    "# Функція для тренування одного RandomForest\n",
    "def train_rf(seed):\n",
    "    model = RandomForestClassifier(random_state=seed, **rf_params)\n",
    "    return model\n",
    "\n",
    "# Тренування та додавання кожен моделей RandomForest до гомогенного ансамблю\n",
    "for seed in range(n_estimators):\n",
    "    model = train_rf(seed)\n",
    "    sequential_rf_ensemble.append(model)\n",
    "    \n",
    "# Тренування кожної моделі в ансамблі на тренувальних даних\n",
    "for model in sequential_rf_ensemble:\n",
    "    model.fit(X_train, y_train)"
   ]
  },
  {
   "cell_type": "code",
   "execution_count": 14,
   "id": "b1f10448",
   "metadata": {},
   "outputs": [
    {
     "name": "stdout",
     "output_type": "stream",
     "text": [
      "Accuracy for Parallel Decision Tree Ensemble: 0.34234234234234234\n",
      "Accuracy for Sequential RandomForest Ensemble: 0.2972972972972973\n"
     ]
    }
   ],
   "source": [
    "from sklearn.metrics import accuracy_score\n",
    "\n",
    "# Прогноз для гомогенного ансамблю на основі Decision Tree\n",
    "predictions_decision_tree = parallel_tree_ensemble.predict(X_test)\n",
    "\n",
    "# Прогноз для гомогенного ансамблю на основі RandomForest\n",
    "predictions_rf_ensemble = [model.predict(X_test) for model in sequential_rf_ensemble]\n",
    "\n",
    "# Точність для гомогенного ансамблю на основі Decision Tree\n",
    "accuracy_decision_tree = accuracy_score(y_test, predictions_decision_tree)\n",
    "print(f\"Accuracy for Parallel Decision Tree Ensemble: {accuracy_decision_tree}\")\n",
    "\n",
    "# Точність для гомогенного ансамблю на основі RandomForest\n",
    "accuracy_rf_ensemble = accuracy_score(y_test, predictions_rf_ensemble[0])\n",
    "print(f\"Accuracy for Sequential RandomForest Ensemble: {accuracy_rf_ensemble}\")"
   ]
  },
  {
   "cell_type": "code",
   "execution_count": 29,
   "id": "11b820d9",
   "metadata": {},
   "outputs": [
    {
     "name": "stdout",
     "output_type": "stream",
     "text": [
      "Best parameters for Parallel Decision Tree Ensemble: {'max_depth': 10, 'min_samples_leaf': 4, 'min_samples_split': 2}\n",
      "Accuracy for optimized Parallel Decision Tree Ensemble: 0.36036036036036034\n"
     ]
    }
   ],
   "source": [
    "from sklearn.model_selection import GridSearchCV\n",
    "from sklearn.tree import DecisionTreeClassifier\n",
    "from sklearn.ensemble import BaggingClassifier\n",
    "\n",
    "# Параметр для оптимізації ансамблю на основі Decision Tree\n",
    "param_grid_decision_tree = {\n",
    "    'max_depth': [None, 10, 20],\n",
    "    'min_samples_split': [2, 5, 10],\n",
    "    'min_samples_leaf': [1, 2, 4]\n",
    "}\n",
    "\n",
    "# Нова модель Decision Tree\n",
    "base_model_decision_tree = DecisionTreeClassifier()\n",
    "\n",
    "# GridSearchCV для оптимізації гіперпараметрів Decision Tree\n",
    "grid_search_decision_tree = GridSearchCV(base_model_decision_tree, param_grid_decision_tree, cv=2)\n",
    "grid_search_decision_tree.fit(X_train, y_train)\n",
    "\n",
    "# Вивід найкращих параметрів\n",
    "best_params_decision_tree = grid_search_decision_tree.best_params_\n",
    "print(f\"Best parameters for Parallel Decision Tree Ensemble: {best_params_decision_tree}\")\n",
    "\n",
    "# Використання нової моделі в ансамблі\n",
    "best_decision_tree_model = grid_search_decision_tree.best_estimator_\n",
    "parallel_tree_ensemble_optimized = BaggingClassifier(estimator=best_decision_tree_model, n_estimators=10, n_jobs=-1)\n",
    "\n",
    "# Тренування гомогенного ансамблю\n",
    "parallel_tree_ensemble_optimized.fit(X_train, y_train)\n",
    "\n",
    "# Точність\n",
    "accuracy_parallel_tree_ensemble = parallel_tree_ensemble_optimized.score(X_test, y_test)\n",
    "print(f\"Accuracy for optimized Parallel Decision Tree Ensemble: {accuracy_parallel_tree_ensemble}\")"
   ]
  },
  {
   "cell_type": "code",
   "execution_count": 23,
   "id": "23011439",
   "metadata": {},
   "outputs": [
    {
     "name": "stdout",
     "output_type": "stream",
     "text": [
      "Best parameters for Sequential RandomForest Ensemble: {'max_depth': 20, 'min_samples_leaf': 4, 'min_samples_split': 5, 'n_estimators': 100}\n",
      "Accuracy for optimized Sequential RandomForest Ensemble: 0.42342342342342343\n"
     ]
    }
   ],
   "source": [
    "from sklearn.model_selection import GridSearchCV\n",
    "from sklearn.ensemble import RandomForestClassifier\n",
    "\n",
    "# Параметри для оптимізації ансамблю на основі RandomForest\n",
    "param_grid_rf = {\n",
    "    'n_estimators': [10, 50, 100],\n",
    "    'max_depth': [10, 20, 30],\n",
    "    'min_samples_split': [2, 5, 10],\n",
    "    'min_samples_leaf': [1, 2, 4]\n",
    "}\n",
    "\n",
    "# GridSearchCV для оптимізації RandomForest\n",
    "grid_search_rf = GridSearchCV(RandomForestClassifier(), param_grid_rf, cv=2)\n",
    "grid_search_rf.fit(X_train, y_train)\n",
    "\n",
    "# Вивід найкращих параметрів RandomForest\n",
    "best_params_rf = grid_search_rf.best_params_\n",
    "print(f\"Best parameters for Sequential RandomForest Ensemble: {best_params_rf}\")\n",
    "\n",
    "# Використання оптимізованої моделі RandomForest в ансамблі\n",
    "best_rf_model = grid_search_rf.best_estimator_\n",
    "sequential_rf_ensemble_optimized = [best_rf_model] * n_estimators\n",
    "\n",
    "# Тренування ансамблю\n",
    "for model in sequential_rf_ensemble_optimized:\n",
    "    model.fit(X_train, y_train)\n",
    "    \n",
    "# Прогноз\n",
    "predictions_rf_ensemble = [model.predict(X_test) for model in sequential_rf_ensemble_optimized]\n",
    "\n",
    "# Точність\n",
    "accuracy_rf_ensemble = accuracy_score(y_test, predictions_rf_ensemble[0])\n",
    "print(f\"Accuracy for optimized Sequential RandomForest Ensemble: {accuracy_rf_ensemble}\")"
   ]
  },
  {
   "cell_type": "code",
   "execution_count": 30,
   "id": "ef32d8c1",
   "metadata": {},
   "outputs": [
    {
     "name": "stdout",
     "output_type": "stream",
     "text": [
      "Feature Importance for Parallel Decision Tree Ensemble:\n",
      "uploads: 0.7544387630095539\n",
      "Country: 0.24556123699044602\n"
     ]
    }
   ],
   "source": [
    "import numpy as np\n",
    "\n",
    "# Отримуємо важливість ознак для кожного Decision Tree в ансамблі\n",
    "feature_importances_decision_trees = [tree.feature_importances_ for tree in parallel_tree_ensemble_optimized.estimators_]\n",
    "\n",
    "# Середнє значення важливості ознак по всім Decision Tree\n",
    "average_feature_importance_decision_trees = np.mean(feature_importances_decision_trees, axis=0)\n",
    "\n",
    "# Створюємо словник, де ключі - назви ознак, значення - їх середнє значення важливості\n",
    "feature_importance_dict_decision_trees = dict(zip(X_train.columns, average_feature_importance_decision_trees))\n",
    "\n",
    "# Виводимо важливість ознак для ансамблю на основі Decision Tree\n",
    "print(\"Feature Importance for Parallel Decision Tree Ensemble:\")\n",
    "for feature, importance in feature_importance_dict_decision_trees.items():\n",
    "    print(f\"{feature}: {importance}\")"
   ]
  },
  {
   "cell_type": "code",
   "execution_count": 32,
   "id": "19165fff",
   "metadata": {},
   "outputs": [
    {
     "name": "stdout",
     "output_type": "stream",
     "text": [
      "Feature Importance for RandomForest:\n",
      "uploads: 0.733639771966949\n",
      "Country: 0.2663602280330511\n"
     ]
    }
   ],
   "source": [
    "# Отримуємо важливість ознак для RandomForest\n",
    "feature_importance_rf = best_rf_model.feature_importances_\n",
    "\n",
    "# Створюємо словник, де ключі - назви ознак, значення - їх важливість\n",
    "feature_importance_dict_rf = dict(zip(X_train.columns, feature_importance_rf))\n",
    "\n",
    "# Виводимо важливість ознак для RandomForest\n",
    "print(\"Feature Importance for RandomForest:\")\n",
    "for feature, importance in feature_importance_dict_rf.items():\n",
    "    print(f\"{feature}: {importance}\")"
   ]
  },
  {
   "cell_type": "code",
   "execution_count": null,
   "id": "60945261",
   "metadata": {},
   "outputs": [],
   "source": []
  }
 ],
 "metadata": {
  "kernelspec": {
   "display_name": "Python 3 (ipykernel)",
   "language": "python",
   "name": "python3"
  },
  "language_info": {
   "codemirror_mode": {
    "name": "ipython",
    "version": 3
   },
   "file_extension": ".py",
   "mimetype": "text/x-python",
   "name": "python",
   "nbconvert_exporter": "python",
   "pygments_lexer": "ipython3",
   "version": "3.11.4"
  }
 },
 "nbformat": 4,
 "nbformat_minor": 5
}
