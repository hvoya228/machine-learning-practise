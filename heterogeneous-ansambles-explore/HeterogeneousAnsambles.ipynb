{
 "cells": [
  {
   "cell_type": "code",
   "execution_count": 8,
   "id": "f73fcc6d",
   "metadata": {},
   "outputs": [],
   "source": [
    "import pandas as pd\n",
    "from sklearn.model_selection import train_test_split\n",
    "from sklearn.preprocessing import LabelEncoder\n",
    "\n",
    "# Загрузка даних\n",
    "data = pd.read_csv('GlobalYouTubeStatistics.csv', delimiter=',', encoding='latin1')\n",
    "\n",
    "# ВИдалення нульових значень\n",
    "data = data.dropna()\n",
    "\n",
    "# Перетворення категоріальних даних на float\n",
    "label_encoder = LabelEncoder()\n",
    "data['uploads'] = label_encoder.fit_transform(data['uploads'])\n",
    "data['uploads'] = data['uploads'].astype(float)\n",
    "data['Country'] = label_encoder.fit_transform(data['Country'])\n",
    "data['Country'] = data['Country'].astype(float)\n",
    "data['channel_type'] = label_encoder.fit_transform(data['channel_type'])\n",
    "data['channel_type'] = data['channel_type'].astype(float)\n",
    "\n",
    "# Розбиття даних\n",
    "X = data[['uploads', 'Country']][:500]\n",
    "y = data['channel_type'][:500]\n",
    "\n",
    "# Розділення на навчальний та тестовий набори\n",
    "X_train, X_test, y_train, y_test = train_test_split(X, y, test_size=0.2, random_state=42)"
   ]
  },
  {
   "cell_type": "code",
   "execution_count": 9,
   "id": "050c2108",
   "metadata": {},
   "outputs": [
    {
     "name": "stdout",
     "output_type": "stream",
     "text": [
      "Accuracy of the Parallel Heterogeneous Ensemble: 0.35\n"
     ]
    }
   ],
   "source": [
    "from sklearn.ensemble import VotingClassifier\n",
    "from sklearn.tree import DecisionTreeClassifier\n",
    "from sklearn.ensemble import RandomForestClassifier\n",
    "from sklearn.svm import SVC\n",
    "from sklearn.linear_model import LogisticRegression\n",
    "from sklearn.metrics import accuracy_score\n",
    "\n",
    "# Створення чотирьох різних моделей\n",
    "decision_tree_model = DecisionTreeClassifier(max_depth=3)\n",
    "random_forest_model = RandomForestClassifier(n_estimators=50, random_state=42)\n",
    "svm_model = SVC(probability=True)\n",
    "logistic_regression_model = LogisticRegression(max_iter=10000)\n",
    "\n",
    "# Створення паралельного гетерогенного ансамблю\n",
    "parallel_het_ensemble = VotingClassifier(estimators=[\n",
    "    ('decision_tree', decision_tree_model),\n",
    "    ('random_forest', random_forest_model),\n",
    "    ('svm', svm_model),\n",
    "    ('logistic_regression', logistic_regression_model)\n",
    "], voting='soft')\n",
    "\n",
    "# Тренування паралельного гетерогенного ансамблю\n",
    "parallel_het_ensemble.fit(X_train, y_train)\n",
    "\n",
    "# Прогнозування на тестових даних\n",
    "y_pred_parallel = parallel_het_ensemble.predict(X_test)\n",
    "\n",
    "# Оцінка точності паралельного гетерогенного ансамблю\n",
    "accuracy_parallel = accuracy_score(y_test, y_pred_parallel)\n",
    "print(f\"Accuracy of the Parallel Heterogeneous Ensemble: {accuracy_parallel}\")"
   ]
  },
  {
   "cell_type": "code",
   "execution_count": 15,
   "id": "08f383ab",
   "metadata": {},
   "outputs": [
    {
     "name": "stderr",
     "output_type": "stream",
     "text": [
      "D:\\Software\\Anaconda\\Lib\\site-packages\\sklearn\\model_selection\\_split.py:725: UserWarning: The least populated class in y has only 1 members, which is less than n_splits=2.\n",
      "  warnings.warn(\n"
     ]
    },
    {
     "name": "stdout",
     "output_type": "stream",
     "text": [
      "Best Hyperparameters for Parallel Heterogeneous Ensemble: {'decision_tree__max_depth': 3, 'logistic_regression__C': 1, 'random_forest__n_estimators': 50, 'svm__C': 1}\n",
      "Accuracy for the Best Parallel Heterogeneous Ensemble: 0.35\n"
     ]
    }
   ],
   "source": [
    "from sklearn.model_selection import GridSearchCV\n",
    "\n",
    "# Створення гетерогенного паралельного ансамблю\n",
    "parallel_het_ensemble = VotingClassifier(estimators=[\n",
    "    ('decision_tree', DecisionTreeClassifier()),\n",
    "    ('random_forest', RandomForestClassifier()),\n",
    "    ('svm', SVC(probability=True)),\n",
    "    ('logistic_regression', LogisticRegression(max_iter=20000))\n",
    "], voting='soft')\n",
    "\n",
    "# Параметри для пошуку в кожній моделі\n",
    "param_grid = {\n",
    "    'decision_tree__max_depth': [3, 5],\n",
    "    'random_forest__n_estimators': [50, 100],\n",
    "    'svm__C': [0.1, 1],\n",
    "    'logistic_regression__C': [0.1, 1]\n",
    "}\n",
    "\n",
    "# GridSearchCV для пошуку оптимальних параметрів\n",
    "grid_search = GridSearchCV(parallel_het_ensemble, param_grid, cv=2)\n",
    "grid_search.fit(X_train, y_train)\n",
    "\n",
    "# Вивід найкращих параметрів\n",
    "best_params = grid_search.best_params_\n",
    "print(f\"Best Hyperparameters for Parallel Heterogeneous Ensemble: {best_params}\")\n",
    "\n",
    "# Використання моделі з найкращими параметрами\n",
    "best_parallel_het_ensemble = grid_search.best_estimator_\n",
    "\n",
    "# Тренування ансамблю на оптимальних параметрах\n",
    "best_parallel_het_ensemble.fit(X_train, y_train)\n",
    "\n",
    "# Точність\n",
    "accuracy = best_parallel_het_ensemble.score(X_test, y_test)\n",
    "print(f\"Accuracy for the Best Parallel Heterogeneous Ensemble: {accuracy}\")"
   ]
  },
  {
   "cell_type": "code",
   "execution_count": 17,
   "id": "6e1fe827",
   "metadata": {},
   "outputs": [
    {
     "name": "stdout",
     "output_type": "stream",
     "text": [
      "Feature Importance for decision_tree:\n",
      "uploads: 0.8292797242749822\n",
      "Country: 0.1707202757250178\n",
      "\n",
      "\n",
      "Feature Importance for random_forest:\n",
      "uploads: 0.816028692197586\n",
      "Country: 0.18397130780241405\n",
      "\n",
      "\n",
      "Feature Importance for svm:\n",
      "uploads: 0\n",
      "Country: 0\n",
      "\n",
      "\n",
      "Feature Importance for logistic_regression:\n",
      "uploads: -0.0005763325989557184\n",
      "Country: 0.12777404016380767\n",
      "\n",
      "\n"
     ]
    }
   ],
   "source": [
    "# Визначення важливості ознак для кожної моделі в гетерогенному ансамблі\n",
    "for model_name, model in best_parallel_het_ensemble.named_estimators_.items():\n",
    "    if hasattr(model, 'feature_importances_'):\n",
    "        feature_importance = model.feature_importances_\n",
    "    elif hasattr(model, 'coef_'):\n",
    "        feature_importance = model.coef_[0]\n",
    "    else:\n",
    "        feature_importance = [0] * len(X_train.columns)\n",
    "    \n",
    "    feature_importance_dict = dict(zip(X_train.columns, feature_importance))\n",
    "    \n",
    "    # Вивід важливості ознак для кожної моделі\n",
    "    print(f\"Feature Importance for {model_name}:\")\n",
    "    for feature, importance in feature_importance_dict.items():\n",
    "        print(f\"{feature}: {importance}\")\n",
    "    print(\"\\n\")"
   ]
  },
  {
   "cell_type": "code",
   "execution_count": null,
   "id": "29dda75a",
   "metadata": {},
   "outputs": [],
   "source": []
  }
 ],
 "metadata": {
  "kernelspec": {
   "display_name": "Python 3 (ipykernel)",
   "language": "python",
   "name": "python3"
  },
  "language_info": {
   "codemirror_mode": {
    "name": "ipython",
    "version": 3
   },
   "file_extension": ".py",
   "mimetype": "text/x-python",
   "name": "python",
   "nbconvert_exporter": "python",
   "pygments_lexer": "ipython3",
   "version": "3.11.4"
  }
 },
 "nbformat": 4,
 "nbformat_minor": 5
}
