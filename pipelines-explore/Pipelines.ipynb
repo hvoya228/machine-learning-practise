{
 "cells": [
  {
   "cell_type": "code",
   "execution_count": 1,
   "id": "7ff82028",
   "metadata": {},
   "outputs": [],
   "source": [
    "import numpy as np\n",
    "from sklearn.model_selection import train_test_split\n",
    "from sklearn.preprocessing import StandardScaler\n",
    "from sklearn.decomposition import PCA\n",
    "from sklearn.metrics import accuracy_score\n",
    "from sklearn.preprocessing import LabelEncoder\n",
    "import pandas as pd\n",
    "from sklearn.neighbors import KNeighborsClassifier\n",
    "from sklearn.preprocessing import MinMaxScaler\n",
    "from sklearn.tree import DecisionTreeClassifier\n",
    "from sklearn.ensemble import RandomForestClassifier\n",
    "from sklearn.svm import SVC\n",
    "from sklearn.model_selection import GridSearchCV\n",
    "from sklearn.pipeline import Pipeline"
   ]
  },
  {
   "cell_type": "code",
   "execution_count": 22,
   "id": "5e33bfe1",
   "metadata": {},
   "outputs": [],
   "source": [
    "# Загрузка даних\n",
    "data = pd.read_csv('GlobalYouTubeStatistics.csv', delimiter=',', encoding='latin1')\n",
    "\n",
    "# ВИдалення нульових значень\n",
    "data = data.dropna()\n",
    "\n",
    "# Перетворення категоріальних даних на float\n",
    "label_encoder = LabelEncoder()\n",
    "data['uploads'] = label_encoder.fit_transform(data['uploads'])\n",
    "data['uploads'] = data['uploads'].astype(float)\n",
    "data['Country'] = label_encoder.fit_transform(data['Country'])\n",
    "data['Country'] = data['Country'].astype(float)\n",
    "data['channel_type'] = label_encoder.fit_transform(data['channel_type'])\n",
    "data['channel_type'] = data['channel_type'].astype(float)\n",
    "\n",
    "# Розбиття даних\n",
    "X = data[['uploads', 'Country']]\n",
    "y = data['channel_type']\n",
    "\n",
    "# Розділення на навчальний та тестовий набори\n",
    "X_train, X_test, y_train, y_test = train_test_split(X, y, test_size=0.2, random_state=42)"
   ]
  },
  {
   "cell_type": "code",
   "execution_count": 23,
   "id": "cb676083",
   "metadata": {},
   "outputs": [
    {
     "name": "stdout",
     "output_type": "stream",
     "text": [
      "Точність моделі SVM: 0.34234234234234234\n"
     ]
    }
   ],
   "source": [
    "# Створення першого контейнера для SVM моделі\n",
    "\n",
    "svm_pipeline = Pipeline([\n",
    "    ('scaler', StandardScaler()),  # Нормалізація даних\n",
    "    ('pca', PCA(n_components=2)),   # Зменшення розмірності з PCA\n",
    "    ('svm', SVC(kernel='linear', C=1.0, random_state=42))  # SVM модель\n",
    "])\n",
    "\n",
    "# Тренування моделі та передбачення\n",
    "svm_pipeline.fit(X_train, y_train)\n",
    "y_pred = svm_pipeline.predict(X_test)\n",
    "\n",
    "# Точність моделі\n",
    "accuracy = accuracy_score(y_test, y_pred)\n",
    "print(f'Точність моделі SVM: {accuracy}')"
   ]
  },
  {
   "cell_type": "code",
   "execution_count": 24,
   "id": "327f927b",
   "metadata": {},
   "outputs": [
    {
     "name": "stdout",
     "output_type": "stream",
     "text": [
      "Найкращі параметри: {'svm__C': 100, 'svm__kernel': 'poly'}\n",
      "Точність оптимізованої моделі SVM: 0.3783783783783784\n"
     ]
    }
   ],
   "source": [
    "# Сітка параметрів для SVM моделі\n",
    "param_grid = {\n",
    "    'svm__C': [0.1, 1, 10, 100],\n",
    "    'svm__kernel': ['linear', 'rbf', 'poly']\n",
    "}\n",
    "\n",
    "# Використання GridSearchCV для пошуку найкращих параметрів\n",
    "grid_search = GridSearchCV(svm_pipeline, param_grid, cv=2, scoring='accuracy')\n",
    "grid_search.fit(X_train, y_train)\n",
    "\n",
    "# Вивід найкращих параметрів\n",
    "print(\"Найкращі параметри:\", grid_search.best_params_)\n",
    "\n",
    "# Передбачення з використанням найкращої моделі\n",
    "y_pred = grid_search.predict(X_test)\n",
    "\n",
    "# Точність оптимізованої моделі\n",
    "accuracy = accuracy_score(y_test, y_pred)\n",
    "print(f'Точність оптимізованої моделі SVM: {accuracy}')"
   ]
  },
  {
   "cell_type": "code",
   "execution_count": 25,
   "id": "e721e6c6",
   "metadata": {},
   "outputs": [
    {
     "name": "stdout",
     "output_type": "stream",
     "text": [
      "Точність моделі KNN: 0.38738738738738737\n"
     ]
    }
   ],
   "source": [
    "# Створення контейнеру для KNN моделі\n",
    "\n",
    "knn_pipeline = Pipeline([\n",
    "    ('scaler', StandardScaler()),  # Нормалізація даних\n",
    "    ('knn', KNeighborsClassifier(n_neighbors=5, p=2, metric='minkowski'))  # KNN модель\n",
    "])\n",
    "\n",
    "# Тренування моделі та передбачення\n",
    "knn_pipeline.fit(X_train, y_train)\n",
    "y_pred = knn_pipeline.predict(X_test)\n",
    "\n",
    "# Оцінка точності моделі\n",
    "accuracy = accuracy_score(y_test, y_pred)\n",
    "print(\"Точність моделі KNN:\", accuracy)"
   ]
  },
  {
   "cell_type": "code",
   "execution_count": 26,
   "id": "d7489166",
   "metadata": {},
   "outputs": [
    {
     "name": "stdout",
     "output_type": "stream",
     "text": [
      "Найкращі параметри для KNN: {'knn__metric': 'minkowski', 'knn__n_neighbors': 7, 'knn__p': 1}\n",
      "Точність оптимізованої моделі KNN: 0.43243243243243246\n"
     ]
    }
   ],
   "source": [
    "# Сітка параметрів для KNN моделі\n",
    "param_grid_knn = {\n",
    "    'knn__n_neighbors': [3, 5, 7],\n",
    "    'knn__p': [1, 2],\n",
    "    'knn__metric': ['minkowski', 'euclidean', 'manhattan']\n",
    "}\n",
    "\n",
    "# Використання GridSearchCV для пошуку найкращих параметрів\n",
    "grid_search_knn = GridSearchCV(knn_pipeline, param_grid_knn, cv=2, scoring='accuracy')\n",
    "grid_search_knn.fit(X_train, y_train)\n",
    "\n",
    "# Вивід найкращих параметрів\n",
    "print(\"Найкращі параметри для KNN:\", grid_search_knn.best_params_)\n",
    "\n",
    "# Передбачення\n",
    "y_pred = grid_search_knn.predict(X_test)\n",
    "\n",
    "# Точність\n",
    "accuracy = accuracy_score(y_test, y_pred)\n",
    "print(f'Точність оптимізованої моделі KNN: {accuracy}')"
   ]
  },
  {
   "cell_type": "code",
   "execution_count": 27,
   "id": "ede569c2",
   "metadata": {},
   "outputs": [
    {
     "name": "stdout",
     "output_type": "stream",
     "text": [
      "Точність моделі Decision Tree: 0.2882882882882883\n"
     ]
    }
   ],
   "source": [
    "# Створення контейнера для Decision Tree моделі\n",
    "\n",
    "dt_pipeline = Pipeline([\n",
    "    ('minmax_scaler', MinMaxScaler()),  # MinMax масштабування даних\n",
    "    ('standard_scaler', StandardScaler()),  # Нормалізація даних\n",
    "    ('dt', DecisionTreeClassifier(random_state=42))  # Decision Tree модель\n",
    "])\n",
    "\n",
    "# Тренування моделі на тренувальних даних\n",
    "dt_pipeline.fit(X_train, y_train)\n",
    "\n",
    "# Передбачення\n",
    "y_pred = dt_pipeline.predict(X_test)\n",
    "\n",
    "# Оцінка точності моделі\n",
    "accuracy = accuracy_score(y_test, y_pred)\n",
    "print(f'Точність моделі Decision Tree: {accuracy}')"
   ]
  },
  {
   "cell_type": "code",
   "execution_count": 28,
   "id": "74c84576",
   "metadata": {},
   "outputs": [
    {
     "name": "stdout",
     "output_type": "stream",
     "text": [
      "Найкращі параметри для Decision Tree: {'dt__criterion': 'gini', 'dt__max_depth': 10, 'dt__min_samples_leaf': 4, 'dt__min_samples_split': 2}\n",
      "Точність оптимізованої моделі Decision Tree: 0.35135135135135137\n"
     ]
    }
   ],
   "source": [
    "# Сітка параметрів для Decision Tree моделі\n",
    "param_grid_dt = {\n",
    "    'dt__criterion': ['gini', 'entropy'],\n",
    "    'dt__max_depth': [None, 10, 20, 30],\n",
    "    'dt__min_samples_split': [2, 5, 10],\n",
    "    'dt__min_samples_leaf': [1, 2, 4]\n",
    "}\n",
    "\n",
    "# Використання GridSearchCV для пошуку найкращих параметрів\n",
    "grid_search_dt = GridSearchCV(dt_pipeline, param_grid_dt, cv=2, scoring='accuracy')\n",
    "grid_search_dt.fit(X_train, y_train)\n",
    "\n",
    "# Вивід найкращих параметрів\n",
    "print(\"Найкращі параметри для Decision Tree:\", grid_search_dt.best_params_)\n",
    "\n",
    "# Передбачення\n",
    "y_pred = grid_search_dt.predict(X_test)\n",
    "\n",
    "# Оцінюємо точність оптимізованої Decision Tree моделі на тестовому наборі\n",
    "accuracy = accuracy_score(y_test, y_pred)\n",
    "print(f'Точність оптимізованої моделі Decision Tree: {accuracy}')"
   ]
  },
  {
   "cell_type": "code",
   "execution_count": 29,
   "id": "a7985b84",
   "metadata": {},
   "outputs": [
    {
     "name": "stdout",
     "output_type": "stream",
     "text": [
      "Точність моделі Random Forest: 0.34234234234234234\n"
     ]
    }
   ],
   "source": [
    "# Створення контейнеру для моделі RandomForest\n",
    "\n",
    "rf_pipeline = Pipeline([\n",
    "    ('scaler', StandardScaler()),  # Нормалізація даних\n",
    "    ('pca', PCA(n_components=2)),   # Зменшення розмірності з PCA\n",
    "    ('rf', RandomForestClassifier(n_estimators=100, random_state=42))  # Random Forest модель\n",
    "])\n",
    "\n",
    "# Тренування моделі на тренувальних даних\n",
    "rf_pipeline.fit(X_train, y_train)\n",
    "\n",
    "# Передбачення\n",
    "y_pred = rf_pipeline.predict(X_test)\n",
    "\n",
    "# Оцінка точності моделі\n",
    "accuracy = accuracy_score(y_test, y_pred)\n",
    "print(f'Точність моделі Random Forest: {accuracy}')"
   ]
  },
  {
   "cell_type": "code",
   "execution_count": 21,
   "id": "0c2a63c3",
   "metadata": {},
   "outputs": [
    {
     "name": "stdout",
     "output_type": "stream",
     "text": [
      "Найкращі параметри для Random Forest: {'rf__max_depth': None, 'rf__min_samples_leaf': 1, 'rf__min_samples_split': 10, 'rf__n_estimators': 50}\n",
      "Точність оптимізованої моделі RandomForest: 0.40540540540540543\n"
     ]
    }
   ],
   "source": [
    "# Сітка параметрів для Random Forest моделі\n",
    "param_grid_rf = {\n",
    "    'rf__n_estimators': [50, 100, 200],\n",
    "    'rf__max_depth': [None, 10, 20],\n",
    "    'rf__min_samples_split': [2, 5, 10],\n",
    "    'rf__min_samples_leaf': [1, 2, 4]\n",
    "}\n",
    "\n",
    "# GridSearchCV для пошуку найкращих параметрів\n",
    "grid_search_rf = GridSearchCV(rf_pipeline, param_grid_rf, cv=2, scoring='accuracy')\n",
    "grid_search_rf.fit(X_train, y_train)\n",
    "\n",
    "# Вивід найкращих параметрів\n",
    "print(\"Найкращі параметри для Random Forest:\", grid_search_rf.best_params_)\n",
    "\n",
    "# Передбачення\n",
    "y_pred = grid_search_rf.predict(X_test)\n",
    "\n",
    "# Оцінюємо точність оптимізованої Random Forest моделі на тестовому наборі\n",
    "accuracy = accuracy_score(y_test, y_pred)\n",
    "print(f'Точність оптимізованої моделі RandomForest: {accuracy}')"
   ]
  }
 ],
 "metadata": {
  "kernelspec": {
   "display_name": "Python 3 (ipykernel)",
   "language": "python",
   "name": "python3"
  },
  "language_info": {
   "codemirror_mode": {
    "name": "ipython",
    "version": 3
   },
   "file_extension": ".py",
   "mimetype": "text/x-python",
   "name": "python",
   "nbconvert_exporter": "python",
   "pygments_lexer": "ipython3",
   "version": "3.11.4"
  }
 },
 "nbformat": 4,
 "nbformat_minor": 5
}
