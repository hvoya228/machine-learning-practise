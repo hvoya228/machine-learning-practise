{
 "cells": [
  {
   "cell_type": "code",
   "execution_count": 22,
   "id": "0f44f137",
   "metadata": {},
   "outputs": [
    {
     "data": {
      "text/html": [
       "<div>\n",
       "<style scoped>\n",
       "    .dataframe tbody tr th:only-of-type {\n",
       "        vertical-align: middle;\n",
       "    }\n",
       "\n",
       "    .dataframe tbody tr th {\n",
       "        vertical-align: top;\n",
       "    }\n",
       "\n",
       "    .dataframe thead th {\n",
       "        text-align: right;\n",
       "    }\n",
       "</style>\n",
       "<table border=\"1\" class=\"dataframe\">\n",
       "  <thead>\n",
       "    <tr style=\"text-align: right;\">\n",
       "      <th></th>\n",
       "      <th>key</th>\n",
       "      <th>author</th>\n",
       "      <th>date</th>\n",
       "      <th>stars</th>\n",
       "      <th>title</th>\n",
       "      <th>helpful_yes</th>\n",
       "      <th>helpful_no</th>\n",
       "      <th>text</th>\n",
       "    </tr>\n",
       "  </thead>\n",
       "  <tbody>\n",
       "    <tr>\n",
       "      <th>0</th>\n",
       "      <td>0_bj</td>\n",
       "      <td>Ilovebennjerry</td>\n",
       "      <td>2017-04-15</td>\n",
       "      <td>3</td>\n",
       "      <td>Not enough brownies!</td>\n",
       "      <td>10</td>\n",
       "      <td>3</td>\n",
       "      <td>Super good, don't get me wrong. But I came for...</td>\n",
       "    </tr>\n",
       "    <tr>\n",
       "      <th>1</th>\n",
       "      <td>0_bj</td>\n",
       "      <td>Sweettooth909</td>\n",
       "      <td>2020-01-05</td>\n",
       "      <td>5</td>\n",
       "      <td>Iâm OBSESSED with this pint!</td>\n",
       "      <td>3</td>\n",
       "      <td>0</td>\n",
       "      <td>I decided to try it out although Iâm not a h...</td>\n",
       "    </tr>\n",
       "    <tr>\n",
       "      <th>2</th>\n",
       "      <td>0_bj</td>\n",
       "      <td>LaTanga71</td>\n",
       "      <td>2018-04-26</td>\n",
       "      <td>3</td>\n",
       "      <td>My favorite...More Caramel Please</td>\n",
       "      <td>5</td>\n",
       "      <td>2</td>\n",
       "      <td>My caramel core begins to disappear about half...</td>\n",
       "    </tr>\n",
       "    <tr>\n",
       "      <th>3</th>\n",
       "      <td>0_bj</td>\n",
       "      <td>chicago220</td>\n",
       "      <td>2018-01-14</td>\n",
       "      <td>5</td>\n",
       "      <td>Obsessed!!!</td>\n",
       "      <td>24</td>\n",
       "      <td>1</td>\n",
       "      <td>Why are people complaining about the blonde br...</td>\n",
       "    </tr>\n",
       "    <tr>\n",
       "      <th>4</th>\n",
       "      <td>0_bj</td>\n",
       "      <td>Kassidyk</td>\n",
       "      <td>2020-07-24</td>\n",
       "      <td>1</td>\n",
       "      <td>Worst Ice Cream Ever!</td>\n",
       "      <td>1</td>\n",
       "      <td>5</td>\n",
       "      <td>This ice cream is worst ice cream Iâve ever ...</td>\n",
       "    </tr>\n",
       "    <tr>\n",
       "      <th>...</th>\n",
       "      <td>...</td>\n",
       "      <td>...</td>\n",
       "      <td>...</td>\n",
       "      <td>...</td>\n",
       "      <td>...</td>\n",
       "      <td>...</td>\n",
       "      <td>...</td>\n",
       "      <td>...</td>\n",
       "    </tr>\n",
       "    <tr>\n",
       "      <th>7938</th>\n",
       "      <td>56_bj</td>\n",
       "      <td>Shellyshellzs</td>\n",
       "      <td>2020-04-30</td>\n",
       "      <td>5</td>\n",
       "      <td>Peanut butter fudge heaven</td>\n",
       "      <td>0</td>\n",
       "      <td>0</td>\n",
       "      <td>Oh man I use to be a whatever was on sale girl...</td>\n",
       "    </tr>\n",
       "    <tr>\n",
       "      <th>7939</th>\n",
       "      <td>56_bj</td>\n",
       "      <td>Or1234</td>\n",
       "      <td>2020-02-24</td>\n",
       "      <td>5</td>\n",
       "      <td>The best Chocolate Ice Cream Combo</td>\n",
       "      <td>0</td>\n",
       "      <td>0</td>\n",
       "      <td>This is the first chocolate ice cream Iâve t...</td>\n",
       "    </tr>\n",
       "    <tr>\n",
       "      <th>7940</th>\n",
       "      <td>56_bj</td>\n",
       "      <td>ava21</td>\n",
       "      <td>2020-01-31</td>\n",
       "      <td>5</td>\n",
       "      <td>PERFECT!!</td>\n",
       "      <td>0</td>\n",
       "      <td>0</td>\n",
       "      <td>This is the best pint of ice cream I've ever h...</td>\n",
       "    </tr>\n",
       "    <tr>\n",
       "      <th>7941</th>\n",
       "      <td>56_bj</td>\n",
       "      <td>yeee</td>\n",
       "      <td>2019-03-13</td>\n",
       "      <td>5</td>\n",
       "      <td>My favorite!</td>\n",
       "      <td>0</td>\n",
       "      <td>0</td>\n",
       "      <td>This is my favorite ice cream ever! Can't get ...</td>\n",
       "    </tr>\n",
       "    <tr>\n",
       "      <th>7942</th>\n",
       "      <td>56_bj</td>\n",
       "      <td>Ellehcar</td>\n",
       "      <td>2020-07-24</td>\n",
       "      <td>5</td>\n",
       "      <td>The Best</td>\n",
       "      <td>0</td>\n",
       "      <td>0</td>\n",
       "      <td>This is my favorite flavor...I can just buy on...</td>\n",
       "    </tr>\n",
       "  </tbody>\n",
       "</table>\n",
       "<p>5204 rows × 8 columns</p>\n",
       "</div>"
      ],
      "text/plain": [
       "        key          author        date  stars  \\\n",
       "0      0_bj  Ilovebennjerry  2017-04-15      3   \n",
       "1      0_bj   Sweettooth909  2020-01-05      5   \n",
       "2      0_bj       LaTanga71  2018-04-26      3   \n",
       "3      0_bj      chicago220  2018-01-14      5   \n",
       "4      0_bj        Kassidyk  2020-07-24      1   \n",
       "...     ...             ...         ...    ...   \n",
       "7938  56_bj   Shellyshellzs  2020-04-30      5   \n",
       "7939  56_bj          Or1234  2020-02-24      5   \n",
       "7940  56_bj           ava21  2020-01-31      5   \n",
       "7941  56_bj            yeee  2019-03-13      5   \n",
       "7942  56_bj        Ellehcar  2020-07-24      5   \n",
       "\n",
       "                                   title  helpful_yes  helpful_no  \\\n",
       "0                   Not enough brownies!           10           3   \n",
       "1         Iâm OBSESSED with this pint!            3           0   \n",
       "2      My favorite...More Caramel Please            5           2   \n",
       "3                            Obsessed!!!           24           1   \n",
       "4                  Worst Ice Cream Ever!            1           5   \n",
       "...                                  ...          ...         ...   \n",
       "7938          Peanut butter fudge heaven            0           0   \n",
       "7939  The best Chocolate Ice Cream Combo            0           0   \n",
       "7940                           PERFECT!!            0           0   \n",
       "7941                        My favorite!            0           0   \n",
       "7942                            The Best            0           0   \n",
       "\n",
       "                                                   text  \n",
       "0     Super good, don't get me wrong. But I came for...  \n",
       "1     I decided to try it out although Iâm not a h...  \n",
       "2     My caramel core begins to disappear about half...  \n",
       "3     Why are people complaining about the blonde br...  \n",
       "4     This ice cream is worst ice cream Iâve ever ...  \n",
       "...                                                 ...  \n",
       "7938  Oh man I use to be a whatever was on sale girl...  \n",
       "7939  This is the first chocolate ice cream Iâve t...  \n",
       "7940  This is the best pint of ice cream I've ever h...  \n",
       "7941  This is my favorite ice cream ever! Can't get ...  \n",
       "7942  This is my favorite flavor...I can just buy on...  \n",
       "\n",
       "[5204 rows x 8 columns]"
      ]
     },
     "execution_count": 22,
     "metadata": {},
     "output_type": "execute_result"
    }
   ],
   "source": [
    "import pandas as pd\n",
    "\n",
    "# Загрузка даних\n",
    "dataframe = pd.read_csv('icecreamreviews.csv', delimiter=',', encoding='latin1')\n",
    "\n",
    "# Видалення нульових значень\n",
    "dataframe = dataframe.dropna()\n",
    "\n",
    "# Вивід даних\n",
    "dataframe"
   ]
  },
  {
   "cell_type": "code",
   "execution_count": 23,
   "id": "e1eab2e2",
   "metadata": {},
   "outputs": [],
   "source": [
    "from sklearn.preprocessing import LabelEncoder\n",
    "\n",
    "# Перетворення категоріальних даних на float\n",
    "\n",
    "label_encoder = LabelEncoder()\n",
    "dataframe['text'] = label_encoder.fit_transform(dataframe['text'])\n",
    "dataframe['text'] = dataframe['text'].astype(float)"
   ]
  },
  {
   "cell_type": "code",
   "execution_count": 25,
   "id": "bad58dea",
   "metadata": {},
   "outputs": [],
   "source": [
    "from sklearn.model_selection import train_test_split\n",
    "\n",
    "X = dataframe['text'].to_numpy().reshape(-1, 1)\n",
    "y = dataframe['stars'].to_numpy().reshape(-1, 1)\n",
    "\n",
    "# Розбиття даних на навчальну та тестову групи, з відношенням 70/30\n",
    "X_train, X_test, y_train, y_test = train_test_split(X, y, test_size=0.3, random_state=42)"
   ]
  },
  {
   "cell_type": "code",
   "execution_count": 28,
   "id": "c96440d2",
   "metadata": {},
   "outputs": [
    {
     "data": {
      "text/html": [
       "<style>#sk-container-id-4 {color: black;}#sk-container-id-4 pre{padding: 0;}#sk-container-id-4 div.sk-toggleable {background-color: white;}#sk-container-id-4 label.sk-toggleable__label {cursor: pointer;display: block;width: 100%;margin-bottom: 0;padding: 0.3em;box-sizing: border-box;text-align: center;}#sk-container-id-4 label.sk-toggleable__label-arrow:before {content: \"▸\";float: left;margin-right: 0.25em;color: #696969;}#sk-container-id-4 label.sk-toggleable__label-arrow:hover:before {color: black;}#sk-container-id-4 div.sk-estimator:hover label.sk-toggleable__label-arrow:before {color: black;}#sk-container-id-4 div.sk-toggleable__content {max-height: 0;max-width: 0;overflow: hidden;text-align: left;background-color: #f0f8ff;}#sk-container-id-4 div.sk-toggleable__content pre {margin: 0.2em;color: black;border-radius: 0.25em;background-color: #f0f8ff;}#sk-container-id-4 input.sk-toggleable__control:checked~div.sk-toggleable__content {max-height: 200px;max-width: 100%;overflow: auto;}#sk-container-id-4 input.sk-toggleable__control:checked~label.sk-toggleable__label-arrow:before {content: \"▾\";}#sk-container-id-4 div.sk-estimator input.sk-toggleable__control:checked~label.sk-toggleable__label {background-color: #d4ebff;}#sk-container-id-4 div.sk-label input.sk-toggleable__control:checked~label.sk-toggleable__label {background-color: #d4ebff;}#sk-container-id-4 input.sk-hidden--visually {border: 0;clip: rect(1px 1px 1px 1px);clip: rect(1px, 1px, 1px, 1px);height: 1px;margin: -1px;overflow: hidden;padding: 0;position: absolute;width: 1px;}#sk-container-id-4 div.sk-estimator {font-family: monospace;background-color: #f0f8ff;border: 1px dotted black;border-radius: 0.25em;box-sizing: border-box;margin-bottom: 0.5em;}#sk-container-id-4 div.sk-estimator:hover {background-color: #d4ebff;}#sk-container-id-4 div.sk-parallel-item::after {content: \"\";width: 100%;border-bottom: 1px solid gray;flex-grow: 1;}#sk-container-id-4 div.sk-label:hover label.sk-toggleable__label {background-color: #d4ebff;}#sk-container-id-4 div.sk-serial::before {content: \"\";position: absolute;border-left: 1px solid gray;box-sizing: border-box;top: 0;bottom: 0;left: 50%;z-index: 0;}#sk-container-id-4 div.sk-serial {display: flex;flex-direction: column;align-items: center;background-color: white;padding-right: 0.2em;padding-left: 0.2em;position: relative;}#sk-container-id-4 div.sk-item {position: relative;z-index: 1;}#sk-container-id-4 div.sk-parallel {display: flex;align-items: stretch;justify-content: center;background-color: white;position: relative;}#sk-container-id-4 div.sk-item::before, #sk-container-id-4 div.sk-parallel-item::before {content: \"\";position: absolute;border-left: 1px solid gray;box-sizing: border-box;top: 0;bottom: 0;left: 50%;z-index: -1;}#sk-container-id-4 div.sk-parallel-item {display: flex;flex-direction: column;z-index: 1;position: relative;background-color: white;}#sk-container-id-4 div.sk-parallel-item:first-child::after {align-self: flex-end;width: 50%;}#sk-container-id-4 div.sk-parallel-item:last-child::after {align-self: flex-start;width: 50%;}#sk-container-id-4 div.sk-parallel-item:only-child::after {width: 0;}#sk-container-id-4 div.sk-dashed-wrapped {border: 1px dashed gray;margin: 0 0.4em 0.5em 0.4em;box-sizing: border-box;padding-bottom: 0.4em;background-color: white;}#sk-container-id-4 div.sk-label label {font-family: monospace;font-weight: bold;display: inline-block;line-height: 1.2em;}#sk-container-id-4 div.sk-label-container {text-align: center;}#sk-container-id-4 div.sk-container {/* jupyter's `normalize.less` sets `[hidden] { display: none; }` but bootstrap.min.css set `[hidden] { display: none !important; }` so we also need the `!important` here to be able to override the default hidden behavior on the sphinx rendered scikit-learn.org. See: https://github.com/scikit-learn/scikit-learn/issues/21755 */display: inline-block !important;position: relative;}#sk-container-id-4 div.sk-text-repr-fallback {display: none;}</style><div id=\"sk-container-id-4\" class=\"sk-top-container\"><div class=\"sk-text-repr-fallback\"><pre>KNeighborsClassifier()</pre><b>In a Jupyter environment, please rerun this cell to show the HTML representation or trust the notebook. <br />On GitHub, the HTML representation is unable to render, please try loading this page with nbviewer.org.</b></div><div class=\"sk-container\" hidden><div class=\"sk-item\"><div class=\"sk-estimator sk-toggleable\"><input class=\"sk-toggleable__control sk-hidden--visually\" id=\"sk-estimator-id-4\" type=\"checkbox\" checked><label for=\"sk-estimator-id-4\" class=\"sk-toggleable__label sk-toggleable__label-arrow\">KNeighborsClassifier</label><div class=\"sk-toggleable__content\"><pre>KNeighborsClassifier()</pre></div></div></div></div></div>"
      ],
      "text/plain": [
       "KNeighborsClassifier()"
      ]
     },
     "execution_count": 28,
     "metadata": {},
     "output_type": "execute_result"
    }
   ],
   "source": [
    "from sklearn.neighbors import KNeighborsClassifier\n",
    "\n",
    "# Класифікація з допомогою KNN\n",
    "\n",
    "knn = KNeighborsClassifier(n_neighbors=5, p=2, metric='minkowski')\n",
    "knn.fit(X_train, y_train.ravel())"
   ]
  },
  {
   "cell_type": "code",
   "execution_count": 39,
   "id": "d4df76d9",
   "metadata": {},
   "outputs": [
    {
     "name": "stdout",
     "output_type": "stream",
     "text": [
      "Precision: 0.6331626120358514\n",
      "Recall: 0.6331626120358514\n",
      "F1-score: 0.6331626120358514\n"
     ]
    }
   ],
   "source": [
    "from sklearn.metrics import precision_score\n",
    "from sklearn.metrics import recall_score\n",
    "from sklearn.metrics import f1_score\n",
    "import numpy as np\n",
    "\n",
    "# Передбачення\n",
    "knn_y_pred = knn.predict(X_test)\n",
    "\n",
    "# Обчислення precision, recall, f1-score\n",
    "knn_precision = precision_score(y_test, knn_y_pred, average='micro')\n",
    "knn_recall = recall_score(y_test, knn_y_pred, average='micro')\n",
    "knn_f1 = f1_score(y_test, knn_y_pred, average='micro')\n",
    "\n",
    "print(f\"Precision: {knn_precision}\")\n",
    "print(f\"Recall: {knn_recall}\")\n",
    "print(f\"F1-score: {knn_f1}\")"
   ]
  },
  {
   "cell_type": "code",
   "execution_count": 40,
   "id": "0841e132",
   "metadata": {},
   "outputs": [
    {
     "name": "stdout",
     "output_type": "stream",
     "text": [
      "Best neighbors value: 7\n",
      "Best Accuracy: 0.6690140845070423\n"
     ]
    }
   ],
   "source": [
    "import numpy as np\n",
    "from sklearn.metrics import confusion_matrix, accuracy_score\n",
    "\n",
    "neighbors = [4, 5, 6, 7]\n",
    "best_accuracy = 0.0\n",
    "\n",
    "# Підбір найкращої кількості сусідів\n",
    "for neighbor in neighbors:\n",
    "    optimized_knn = KNeighborsClassifier(neighbor, p=2, metric='minkowski')\n",
    "    optimized_knn.fit(X_train, y_train.ravel())\n",
    "    y_pred = optimized_knn.predict(X_test)\n",
    "    accuracy = accuracy_score(y_test, y_pred)\n",
    "\n",
    "    # Перевірка чи досягнуто нової найкращої точності\n",
    "    if accuracy > best_accuracy:\n",
    "        best_accuracy = accuracy\n",
    "        best_value = neighbor\n",
    "\n",
    "print(\"Best neighbors value:\", best_value)\n",
    "print(\"Best Accuracy:\", best_accuracy)"
   ]
  },
  {
   "cell_type": "code",
   "execution_count": 41,
   "id": "2b15be1b",
   "metadata": {},
   "outputs": [
    {
     "name": "stdout",
     "output_type": "stream",
     "text": [
      "Precision: 0.6690140845070423\n",
      "Recall: 0.6690140845070423\n",
      "F1-score: 0.6690140845070423\n"
     ]
    }
   ],
   "source": [
    "from sklearn.metrics import precision_score\n",
    "from sklearn.metrics import recall_score\n",
    "from sklearn.metrics import f1_score\n",
    "import numpy as np\n",
    "\n",
    "# Передбачення\n",
    "knn_y_pred_optimized = optimized_knn.predict(X_test)\n",
    "\n",
    "# Обчислення precision, recall, f1-score\n",
    "knn_precision_optimized = precision_score(y_test, knn_y_pred_optimized, average='micro')\n",
    "knn_recall_optimized = recall_score(y_test, knn_y_pred_optimized, average='micro')\n",
    "knn_f1_optimized = f1_score(y_test, knn_y_pred_optimized, average='micro')\n",
    "\n",
    "print(f\"Precision: {knn_precision_optimized}\")\n",
    "print(f\"Recall: {knn_recall_optimized}\")\n",
    "print(f\"F1-score: {knn_f1_optimized}\")"
   ]
  },
  {
   "cell_type": "code",
   "execution_count": 48,
   "id": "7f339c4b",
   "metadata": {},
   "outputs": [
    {
     "data": {
      "text/html": [
       "<style>#sk-container-id-5 {color: black;}#sk-container-id-5 pre{padding: 0;}#sk-container-id-5 div.sk-toggleable {background-color: white;}#sk-container-id-5 label.sk-toggleable__label {cursor: pointer;display: block;width: 100%;margin-bottom: 0;padding: 0.3em;box-sizing: border-box;text-align: center;}#sk-container-id-5 label.sk-toggleable__label-arrow:before {content: \"▸\";float: left;margin-right: 0.25em;color: #696969;}#sk-container-id-5 label.sk-toggleable__label-arrow:hover:before {color: black;}#sk-container-id-5 div.sk-estimator:hover label.sk-toggleable__label-arrow:before {color: black;}#sk-container-id-5 div.sk-toggleable__content {max-height: 0;max-width: 0;overflow: hidden;text-align: left;background-color: #f0f8ff;}#sk-container-id-5 div.sk-toggleable__content pre {margin: 0.2em;color: black;border-radius: 0.25em;background-color: #f0f8ff;}#sk-container-id-5 input.sk-toggleable__control:checked~div.sk-toggleable__content {max-height: 200px;max-width: 100%;overflow: auto;}#sk-container-id-5 input.sk-toggleable__control:checked~label.sk-toggleable__label-arrow:before {content: \"▾\";}#sk-container-id-5 div.sk-estimator input.sk-toggleable__control:checked~label.sk-toggleable__label {background-color: #d4ebff;}#sk-container-id-5 div.sk-label input.sk-toggleable__control:checked~label.sk-toggleable__label {background-color: #d4ebff;}#sk-container-id-5 input.sk-hidden--visually {border: 0;clip: rect(1px 1px 1px 1px);clip: rect(1px, 1px, 1px, 1px);height: 1px;margin: -1px;overflow: hidden;padding: 0;position: absolute;width: 1px;}#sk-container-id-5 div.sk-estimator {font-family: monospace;background-color: #f0f8ff;border: 1px dotted black;border-radius: 0.25em;box-sizing: border-box;margin-bottom: 0.5em;}#sk-container-id-5 div.sk-estimator:hover {background-color: #d4ebff;}#sk-container-id-5 div.sk-parallel-item::after {content: \"\";width: 100%;border-bottom: 1px solid gray;flex-grow: 1;}#sk-container-id-5 div.sk-label:hover label.sk-toggleable__label {background-color: #d4ebff;}#sk-container-id-5 div.sk-serial::before {content: \"\";position: absolute;border-left: 1px solid gray;box-sizing: border-box;top: 0;bottom: 0;left: 50%;z-index: 0;}#sk-container-id-5 div.sk-serial {display: flex;flex-direction: column;align-items: center;background-color: white;padding-right: 0.2em;padding-left: 0.2em;position: relative;}#sk-container-id-5 div.sk-item {position: relative;z-index: 1;}#sk-container-id-5 div.sk-parallel {display: flex;align-items: stretch;justify-content: center;background-color: white;position: relative;}#sk-container-id-5 div.sk-item::before, #sk-container-id-5 div.sk-parallel-item::before {content: \"\";position: absolute;border-left: 1px solid gray;box-sizing: border-box;top: 0;bottom: 0;left: 50%;z-index: -1;}#sk-container-id-5 div.sk-parallel-item {display: flex;flex-direction: column;z-index: 1;position: relative;background-color: white;}#sk-container-id-5 div.sk-parallel-item:first-child::after {align-self: flex-end;width: 50%;}#sk-container-id-5 div.sk-parallel-item:last-child::after {align-self: flex-start;width: 50%;}#sk-container-id-5 div.sk-parallel-item:only-child::after {width: 0;}#sk-container-id-5 div.sk-dashed-wrapped {border: 1px dashed gray;margin: 0 0.4em 0.5em 0.4em;box-sizing: border-box;padding-bottom: 0.4em;background-color: white;}#sk-container-id-5 div.sk-label label {font-family: monospace;font-weight: bold;display: inline-block;line-height: 1.2em;}#sk-container-id-5 div.sk-label-container {text-align: center;}#sk-container-id-5 div.sk-container {/* jupyter's `normalize.less` sets `[hidden] { display: none; }` but bootstrap.min.css set `[hidden] { display: none !important; }` so we also need the `!important` here to be able to override the default hidden behavior on the sphinx rendered scikit-learn.org. See: https://github.com/scikit-learn/scikit-learn/issues/21755 */display: inline-block !important;position: relative;}#sk-container-id-5 div.sk-text-repr-fallback {display: none;}</style><div id=\"sk-container-id-5\" class=\"sk-top-container\"><div class=\"sk-text-repr-fallback\"><pre>Ridge()</pre><b>In a Jupyter environment, please rerun this cell to show the HTML representation or trust the notebook. <br />On GitHub, the HTML representation is unable to render, please try loading this page with nbviewer.org.</b></div><div class=\"sk-container\" hidden><div class=\"sk-item\"><div class=\"sk-estimator sk-toggleable\"><input class=\"sk-toggleable__control sk-hidden--visually\" id=\"sk-estimator-id-5\" type=\"checkbox\" checked><label for=\"sk-estimator-id-5\" class=\"sk-toggleable__label sk-toggleable__label-arrow\">Ridge</label><div class=\"sk-toggleable__content\"><pre>Ridge()</pre></div></div></div></div></div>"
      ],
      "text/plain": [
       "Ridge()"
      ]
     },
     "execution_count": 48,
     "metadata": {},
     "output_type": "execute_result"
    }
   ],
   "source": [
    "from sklearn.linear_model import LinearRegression\n",
    "from sklearn.linear_model import Ridge\n",
    "from sklearn.metrics import r2_score\n",
    "\n",
    "# Класифікація з допомогою лійної регресії\n",
    "\n",
    "# Створення та навчання моделі\n",
    "lr = Ridge()\n",
    "lr.fit(X_train, y_train)"
   ]
  },
  {
   "cell_type": "code",
   "execution_count": 50,
   "id": "776d6140",
   "metadata": {},
   "outputs": [
    {
     "name": "stdout",
     "output_type": "stream",
     "text": [
      "R^2: 0.001962643511144724\n"
     ]
    }
   ],
   "source": [
    "# Передбачення\n",
    "lr_y_pred = lr.predict(X_test)\n",
    "\n",
    "# Обчислення коефіцієнту детермінації\n",
    "lr_r2 = r2_score(y_test, lr_y_pred)\n",
    "\n",
    "print(\"R^2:\", lr_r2)"
   ]
  },
  {
   "cell_type": "code",
   "execution_count": 46,
   "id": "30f8d8b6",
   "metadata": {},
   "outputs": [
    {
     "name": "stdout",
     "output_type": "stream",
     "text": [
      "Найкращий параметр: 100\n"
     ]
    }
   ],
   "source": [
    "from sklearn.model_selection import GridSearchCV\n",
    "\n",
    "# Підбір оптимальних параметрів для лінійної регресії\n",
    "\n",
    "# Діапазон alpha\n",
    "param_grid = {'alpha': [0.001, 0.01, 0.1, 1, 10, 100]}\n",
    "\n",
    "# Створення нової моделі гребневої регресії\n",
    "optimized_lr = Ridge()\n",
    "\n",
    "# Перехресна перевірка та підбір гіперпараметрів\n",
    "grid_search = GridSearchCV(optimized_lr, param_grid, cv=5, scoring='neg_mean_squared_error')\n",
    "grid_search.fit(X_train, y_train)\n",
    "\n",
    "# Отримання найкращих параметрів та моделі з найкращими параметрами\n",
    "best_alpha_lr = grid_search.best_params_['alpha']\n",
    "best_model_lr = grid_search.best_estimator_\n",
    "\n",
    "# Навчання моделі з найкращими параметрами\n",
    "best_model_ridge.fit(X_train, y_train)\n",
    "\n",
    "print(\"Найкращий параметр:\", best_alpha_lr)"
   ]
  },
  {
   "cell_type": "code",
   "execution_count": 47,
   "id": "f66078eb",
   "metadata": {},
   "outputs": [
    {
     "name": "stdout",
     "output_type": "stream",
     "text": [
      "R^2: 0.0019626434982938923\n"
     ]
    }
   ],
   "source": [
    "# Обрахунок коефіцієнта детермінації\n",
    "optimized_lr_y_pred = best_model_ridge.predict(X_test)\n",
    "optimized_lr_r2 = r2_score(y_test, optimized_lr_y_pred)\n",
    "\n",
    "print(\"R^2:\", optimized_lr_r2)"
   ]
  }
 ],
 "metadata": {
  "kernelspec": {
   "display_name": "Python 3 (ipykernel)",
   "language": "python",
   "name": "python3"
  },
  "language_info": {
   "codemirror_mode": {
    "name": "ipython",
    "version": 3
   },
   "file_extension": ".py",
   "mimetype": "text/x-python",
   "name": "python",
   "nbconvert_exporter": "python",
   "pygments_lexer": "ipython3",
   "version": "3.11.4"
  }
 },
 "nbformat": 4,
 "nbformat_minor": 5
}
